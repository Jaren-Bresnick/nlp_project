{
 "cells": [
  {
   "cell_type": "markdown",
   "metadata": {},
   "source": [
    "# Leveraging SciBERT for Enhanced Named Entity Recognition in Computer Science Literature"
   ]
  },
  {
   "cell_type": "markdown",
   "metadata": {},
   "source": [
    "## Preprocessing"
   ]
  },
  {
   "cell_type": "code",
   "execution_count": 1,
   "metadata": {},
   "outputs": [],
   "source": [
    "import arxiv"
   ]
  },
  {
   "cell_type": "code",
   "execution_count": 2,
   "metadata": {},
   "outputs": [],
   "source": [
    "client = arxiv.Client()\n",
    "\n",
    "# categories:\n",
    "\n",
    "# Artificial Intelligence (cs.AI)\n",
    "# Machine Learning (cs.LG)\n",
    "# Computer Vision and Pattern Recognition (cs.CV)\n",
    "# Robotics (cs.RO)\n",
    "# Information Retrieval (cs.IR)\n",
    "# Emerging Technologies (cs.ET)\n",
    "# Neural and Evolutionary Computing (cs.NE)\n",
    "# Multi-agent systems (cs.MA)\n",
    "# Computational Linguistics (cs.CL)\n",
    "# Social and Information Networks (cs.SI)\n",
    "\n",
    "\n",
    "search = arxiv.Search(\n",
    "    query = \"cat:cs.AI OR cat:cs.LG OR cat:cs.CV OR cat:cs.RO OR cat:cs.IR OR cat:cs.ET OR cat:cs.NE OR cat:cs.MA OR cat:cs.CL OR cat:cs.SI\",\n",
    "    max_results=1000,\n",
    "    sort_by=arxiv.SortCriterion.SubmittedDate\n",
    ")\n",
    "\n",
    "results = client.results(search)\n"
   ]
  },
  {
   "cell_type": "code",
   "execution_count": 3,
   "metadata": {},
   "outputs": [],
   "source": [
    "with open ('papers.txt', 'w') as f:\n",
    "    for r in client.results(search):\n",
    "        f.write(r.title + '\\n' + r.summary + '\\n\\n')"
   ]
  },
  {
   "cell_type": "code",
   "execution_count": 13,
   "metadata": {},
   "outputs": [
    {
     "name": "stdout",
     "output_type": "stream",
     "text": [
      "Download already complete (1444409270 bytes).\n",
      "Extracting files...\n",
      "Path to dataset files: /Users/jarenbresnick/.cache/kagglehub/datasets/Cornell-University/arxiv/versions/201\n"
     ]
    }
   ],
   "source": [
    "import kagglehub\n",
    "\n",
    "# Download latest version\n",
    "path = kagglehub.dataset_download(\"Cornell-University/arxiv\")\n",
    "\n",
    "print(\"Path to dataset files:\", path)\n"
   ]
  },
  {
   "cell_type": "code",
   "execution_count": 18,
   "metadata": {},
   "outputs": [
    {
     "name": "stdout",
     "output_type": "stream",
     "text": [
      "Number of filtered articles: 428211\n"
     ]
    }
   ],
   "source": [
    "import json\n",
    "\n",
    "# Load the JSON file line by line\n",
    "filtered_articles = []\n",
    "categories_of_interest = [\"cs.AI\", \"cs.LG\", \"cs.CV\", \"cs.RO\", \"cs.IR\", \"cs.ET\", \"cs.NE\", \"cs.MA\", \"cs.CL\", \"cs.SI\"]\n",
    "\n",
    "# Open the file\n",
    "with open(path+\"/arxiv-metadata-oai-snapshot.json\", 'r') as file:\n",
    "    for line in file:\n",
    "        # Parse each line as a JSON object\n",
    "        try:\n",
    "            article = json.loads(line)\n",
    "            # Check if any of the categories of interest are present\n",
    "            if any(cat in article.get('categories', '') for cat in categories_of_interest):\n",
    "                filtered_articles.append(article)\n",
    "        except json.JSONDecodeError as e:\n",
    "            print(f\"Error decoding JSON: {e}\")\n",
    "            continue  # Skip lines that can't be parsed\n",
    "\n",
    "# Save the filtered articles to a new JSON file (optional)\n",
    "with open('filtered_articles.json', 'w') as outfile:\n",
    "    json.dump(filtered_articles, outfile, indent=4)\n",
    "\n",
    "# Print the number of filtered articles\n",
    "print(f\"Number of filtered articles: {len(filtered_articles)}\")\n",
    "\n"
   ]
  },
  {
   "cell_type": "code",
   "execution_count": 25,
   "metadata": {},
   "outputs": [
    {
     "name": "stdout",
     "output_type": "stream",
     "text": [
      "Filtered articles have been written to filtered_articles.txt\n"
     ]
    }
   ],
   "source": [
    "import json\n",
    "\n",
    "# Load the JSON file line by line\n",
    "filtered_articles = []\n",
    "categories_of_interest = [\"cs.AI\", \"cs.LG\", \"cs.CV\", \"cs.RO\", \"cs.IR\", \"cs.ET\", \"cs.NE\", \"cs.MA\", \"cs.CL\", \"cs.SI\"]\n",
    "\n",
    "# Open the file and process line by line\n",
    "file_path = path + '/arxiv-metadata-oai-snapshot.json'\n",
    "output_file = 'filtered_articles.txt'\n",
    "\n",
    "with open(file_path, 'r') as file, open(output_file, 'w') as output:\n",
    "    for line in file:\n",
    "        try:\n",
    "            # Parse each line as a JSON object\n",
    "            article = json.loads(line)\n",
    "            \n",
    "            # Check if any of the categories of interest are present\n",
    "            if any(cat in article.get('categories', '') for cat in categories_of_interest):\n",
    "                title = article.get('title', 'No Title').strip()\n",
    "                abstract = article.get('abstract', 'No Abstract').strip()\n",
    "\n",
    "                # Write the title and abstract to the output text file\n",
    "                output.write(f\"{title}\\n{abstract}\\n\\n\")\n",
    "        except json.JSONDecodeError as e:\n",
    "            print(f\"Error decoding JSON: {e}\")\n",
    "            continue  # Skip lines that can't be parsed\n",
    "\n",
    "# Inform the user that the file has been written\n",
    "print(f\"Filtered articles have been written to {output_file}\")\n"
   ]
  },
  {
   "cell_type": "code",
   "execution_count": null,
   "metadata": {},
   "outputs": [],
   "source": [
    "from transformers import AutoModelForMaskedLM, AutoTokenizer, Trainer, TrainingArguments, DataCollatorForLanguageModeling\n",
    "from datasets import load_dataset, DatasetDict\n",
    "import numpy as np\n",
    "from sklearn.metrics import accuracy_score\n",
    "\n",
    "# Load the SciBERT model and tokenizer\n",
    "model = AutoModelForMaskedLM.from_pretrained(\"allenai/scibert_scivocab_uncased\")\n",
    "tokenizer = AutoTokenizer.from_pretrained(\"allenai/scibert_scivocab_uncased\")\n",
    "\n",
    "# Load the dataset\n",
    "dataset = load_dataset('text', data_files={'train': 'filtered_articles.txt'})\n",
    "\n",
    "# Split the dataset into train and validation (e.g., 90% train, 10% validation)\n",
    "split_dataset = dataset['train'].train_test_split(test_size=0.1)\n",
    "\n",
    "# Rename the split to 'train' and 'validation'\n",
    "split_dataset = DatasetDict({\n",
    "    'train': split_dataset['train'],\n",
    "    'validation': split_dataset['test']\n",
    "})\n",
    "\n",
    "# Tokenize the dataset\n",
    "def tokenize_function(examples):\n",
    "    return tokenizer(examples[\"text\"], truncation=True, max_length=512)\n",
    "\n",
    "tokenized_datasets = split_dataset.map(tokenize_function, batched=True)\n",
    "\n",
    "# Create a data collator for dynamic masking\n",
    "data_collator = DataCollatorForLanguageModeling(\n",
    "    tokenizer=tokenizer, \n",
    "    mlm=True, \n",
    "    mlm_probability=0.15  # 15% of tokens will be masked\n",
    ")\n",
    "\n",
    "# Define training arguments\n",
    "training_args = TrainingArguments(\n",
    "    output_dir=\"./results\",\n",
    "    evaluation_strategy=\"epoch\",\n",
    "    learning_rate=2e-5,\n",
    "    per_device_train_batch_size=8,  # Smaller batch size\n",
    "    per_device_eval_batch_size=8,\n",
    "    gradient_accumulation_steps=2,  # Accumulates gradients over 2 steps (effectively doubling batch size)\n",
    "    num_train_epochs=3,\n",
    "    weight_decay=0.01,\n",
    ")\n",
    "\n",
    "\n",
    "# Custom metrics function to compute perplexity and accuracy\n",
    "def compute_metrics(eval_pred):\n",
    "    predictions, labels = eval_pred\n",
    "    predictions = np.argmax(predictions, axis=-1)\n",
    "\n",
    "    # Mask the labels where they are -100 (those shouldn't count in accuracy)\n",
    "    mask = labels != -100\n",
    "    accuracy = accuracy_score(labels[mask], predictions[mask])\n",
    "    \n",
    "    # Compute perplexity as exponential of the loss\n",
    "    loss = np.mean(eval_pred.loss) if hasattr(eval_pred, \"loss\") else 0.0\n",
    "    perplexity = np.exp(loss) if loss else float(\"inf\")\n",
    "    \n",
    "    return {\n",
    "        \"accuracy\": accuracy,\n",
    "        \"perplexity\": perplexity,\n",
    "        \"loss\": loss\n",
    "    }\n",
    "\n",
    "# Create a Trainer instance\n",
    "trainer = Trainer(\n",
    "    model=model,\n",
    "    args=training_args,\n",
    "    train_dataset=tokenized_datasets[\"train\"],\n",
    "    eval_dataset=tokenized_datasets[\"validation\"],\n",
    "    tokenizer=tokenizer,\n",
    "    data_collator=data_collator,\n",
    "    compute_metrics=compute_metrics  # Add custom evaluation metrics\n",
    ")\n",
    "\n",
    "# Fine-tune the model\n",
    "trainer.train()\n",
    "\n",
    "# Evaluate the model\n",
    "eval_results = trainer.evaluate()\n",
    "print(f\"Evaluation results: {eval_results}\")"
   ]
  },
  {
   "cell_type": "code",
   "execution_count": null,
   "metadata": {},
   "outputs": [],
   "source": []
  }
 ],
 "metadata": {
  "kernelspec": {
   "display_name": "Python 3",
   "language": "python",
   "name": "python3"
  },
  "language_info": {
   "codemirror_mode": {
    "name": "ipython",
    "version": 3
   },
   "file_extension": ".py",
   "mimetype": "text/x-python",
   "name": "python",
   "nbconvert_exporter": "python",
   "pygments_lexer": "ipython3",
   "version": "3.9.6"
  }
 },
 "nbformat": 4,
 "nbformat_minor": 2
}
