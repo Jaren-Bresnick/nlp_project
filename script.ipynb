{
 "cells": [
  {
   "cell_type": "markdown",
   "metadata": {},
   "source": [
    "# Leveraging SciBERT for Enhanced Named Entity Recognition in Computer Science Literature"
   ]
  },
  {
   "cell_type": "markdown",
   "metadata": {},
   "source": [
    "## Preprocessing"
   ]
  },
  {
   "cell_type": "code",
   "execution_count": 10,
   "metadata": {},
   "outputs": [],
   "source": [
    "import arxiv"
   ]
  },
  {
   "cell_type": "code",
   "execution_count": 12,
   "metadata": {},
   "outputs": [],
   "source": [
    "client = arxiv.Client()\n",
    "\n",
    "# categories:\n",
    "\n",
    "# Artificial Intelligence (cs.AI)\n",
    "# Machine Learning (cs.LG)\n",
    "# Computer Vision and Pattern Recognition (cs.CV)\n",
    "# Robotics (cs.RO)\n",
    "# Information Retrieval (cs.IR)\n",
    "# Emerging Technologies (cs.ET)\n",
    "# Neural and Evolutionary Computing (cs.NE)\n",
    "# Multi-agent systems (cs.MA)\n",
    "# Computational Linguistics (cs.CL)\n",
    "# Social and Information Networks (cs.SI)\n",
    "\n",
    "\n",
    "search = arxiv.Search(\n",
    "    query = \"cat:cs.AI OR cat:cs.LG OR cat:cs.CV OR cat:cs.RO OR cat:cs.IR OR cat:cs.ET OR cat:cs.NE OR cat:cs.MA OR cat:cs.CL OR cat:cs.SI\",\n",
    "    max_results=10,\n",
    "    sort_by=arxiv.SortCriterion.SubmittedDate\n",
    ")\n",
    "\n",
    "results = client.results(search)\n",
    "\n",
    "#for r in client.results(search):\n",
    "    #print(r.title)"
   ]
  },
  {
   "cell_type": "code",
   "execution_count": 13,
   "metadata": {},
   "outputs": [],
   "source": [
    "with open ('papers.txt', 'w') as f:\n",
    "    for r in client.results(search):\n",
    "        f.write(r.title + '\\n' + r.summary + '\\n\\n')"
   ]
  }
 ],
 "metadata": {
  "kernelspec": {
   "display_name": "Python 3",
   "language": "python",
   "name": "python3"
  },
  "language_info": {
   "codemirror_mode": {
    "name": "ipython",
    "version": 3
   },
   "file_extension": ".py",
   "mimetype": "text/x-python",
   "name": "python",
   "nbconvert_exporter": "python",
   "pygments_lexer": "ipython3",
   "version": "3.9.6"
  }
 },
 "nbformat": 4,
 "nbformat_minor": 2
}
