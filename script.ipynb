{
 "cells": [
  {
   "cell_type": "markdown",
   "metadata": {},
   "source": [
    "# Leveraging SciBERT for Enhanced Named Entity Recognition in Computer Science Literature"
   ]
  },
  {
   "cell_type": "markdown",
   "metadata": {},
   "source": [
    "## Preprocessing"
   ]
  },
  {
   "cell_type": "code",
   "execution_count": 1,
   "metadata": {},
   "outputs": [],
   "source": [
    "import arxiv"
   ]
  },
  {
   "cell_type": "code",
   "execution_count": 6,
   "metadata": {},
   "outputs": [
    {
     "name": "stdout",
     "output_type": "stream",
     "text": [
      "Tex4D: Zero-shot 4D Scene Texturing with Video Diffusion Models\n",
      "When Does Perceptual Alignment Benefit Vision Representations?\n",
      "TemporalBench: Benchmarking Fine-grained Temporal Understanding for Multimodal Video Models\n",
      "LVD-2M: A Long-take Video Dataset with Temporally Dense Captions\n",
      "Depth Any Video with Scalable Synthetic Data\n",
      "HART: Efficient Visual Generation with Hybrid Autoregressive Transformer\n",
      "Deep Linear Probe Generators for Weight Space Learning\n",
      "TrajDiffuse: A Conditional Diffusion Model for Environment-Aware Trajectory Prediction\n",
      "Generalizable Humanoid Manipulation with Improved 3D Diffusion Policies\n",
      "Boosting Camera Motion Control for Video Diffusion Transformers\n"
     ]
    }
   ],
   "source": [
    "client = arxiv.Client()\n",
    "\n",
    "search = arxiv.Search(\n",
    "    query=\"cat:cs.CV\",\n",
    "    max_results=10,\n",
    "    sort_by=arxiv.SortCriterion.SubmittedDate\n",
    ")\n",
    "\n",
    "results = client.results(search)\n",
    "\n",
    "for r in client.results(search):\n",
    "    print(r.title)"
   ]
  },
  {
   "cell_type": "code",
   "execution_count": null,
   "metadata": {},
   "outputs": [],
   "source": []
  }
 ],
 "metadata": {
  "kernelspec": {
   "display_name": "Python 3",
   "language": "python",
   "name": "python3"
  },
  "language_info": {
   "codemirror_mode": {
    "name": "ipython",
    "version": 3
   },
   "file_extension": ".py",
   "mimetype": "text/x-python",
   "name": "python",
   "nbconvert_exporter": "python",
   "pygments_lexer": "ipython3",
   "version": "3.9.6"
  }
 },
 "nbformat": 4,
 "nbformat_minor": 2
}
